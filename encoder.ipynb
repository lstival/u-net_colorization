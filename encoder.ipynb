{
 "cells": [
  {
   "cell_type": "code",
   "execution_count": 1,
   "metadata": {},
   "outputs": [],
   "source": [
    "# https://github.com/mjy8086/semantic_segmentation_2D_ViT_UNet/blob/master/model.py\n",
    "\n",
    "# Imports\n",
    "\n",
    "import torch\n",
    "from torch import nn\n",
    "import torch.nn.functional\n",
    "from torch.nn import Dropout, Softmax, Linear, LayerNorm, Conv2d\n",
    "import math\n",
    "import copy\n",
    "import os"
   ]
  },
  {
   "cell_type": "code",
   "execution_count": 2,
   "metadata": {},
   "outputs": [],
   "source": [
    "# Cuda Devices avalibles\n",
    "os.environ[\"CUDA_VISIBLE_DEVICES\"] = \"1\""
   ]
  },
  {
   "cell_type": "code",
   "execution_count": 3,
   "metadata": {},
   "outputs": [],
   "source": [
    "# CNN Encoder\n",
    "\n",
    "# BatchNorm is not used because it's not good for ViT\n",
    "# GroupNorm and LayerNorm is used instead\n",
    "\n",
    "# Conv with GroupNorm\n",
    "class CNNencoder_gn(nn.Module):\n",
    "    def __init__(self, in_c, out_c):\n",
    "        super().__init__()\n",
    "        self.model = nn.Sequential(\n",
    "            nn.Conv2d(in_c, out_c, kernel_size=3, stride=1, padding=1, bias=False),\n",
    "            nn.GroupNorm(16, out_c, eps=1e-6),\n",
    "            nn.LeakyReLU(inplace=True)\n",
    "        )\n",
    "\n",
    "    def forward(self, x):\n",
    "        out = self.model(x)\n",
    "        return out"
   ]
  },
  {
   "cell_type": "code",
   "execution_count": 4,
   "metadata": {},
   "outputs": [],
   "source": [
    "\n",
    "# Conv with LayerNorm\n",
    "class CNNencoder_ln(nn.Module):\n",
    "    def __init__(self, in_c, out_c):\n",
    "        super().__init__()\n",
    "        self.model = nn.Sequential(\n",
    "            nn.Conv2d(in_c, out_c, kernel_size=3, stride=1, padding=1, bias=False),\n",
    "            nn.GroupNorm(23, out_c, eps=1e-6),\n",
    "            nn.LeakyReLU(inplace=True)\n",
    "        )\n",
    "\n",
    "    def forward(self, x):\n",
    "        out = self.model(x)\n",
    "        return out"
   ]
  },
  {
   "cell_type": "code",
   "execution_count": 5,
   "metadata": {},
   "outputs": [],
   "source": [
    "\n",
    "# CNN Concat with GroupNorm\n",
    "class Concat_gn(nn.Module):\n",
    "    def __init__(self, in_c, out_c):\n",
    "        super().__init__()\n",
    "        self.model = nn.Sequential(\n",
    "            nn.Conv2d(in_c, out_c, kernel_size=3, stride=1, padding=1, bias=False),\n",
    "            nn.GroupNorm(16, out_c, eps=1e-6),\n",
    "            nn.LeakyReLU(inplace=True)\n",
    "        )\n",
    "\n",
    "    def forward(self, x, skip):\n",
    "\n",
    "        x = torch.cat((x, skip), 1)\n",
    "        out = self.model(x)\n",
    "        return out"
   ]
  },
  {
   "cell_type": "code",
   "execution_count": 6,
   "metadata": {},
   "outputs": [],
   "source": [
    "# CNN concat with LayerNorm\n",
    "class Concat_ln(nn.Module):\n",
    "    def __init__(self, in_c, out_c):\n",
    "        super().__init__()\n",
    "        self.model = nn.Sequential(\n",
    "            nn.Conv2d(in_c, out_c, kernel_size=3, stride=1, padding=1, bias=False),\n",
    "            nn.GroupNorm(23, out_c, eps=1e-6),\n",
    "            nn.LeakyReLU(inplace=True)\n",
    "        )\n",
    "\n",
    "    def forward(self, x, skip):\n",
    "\n",
    "        x = torch.cat((x, skip), 1)\n",
    "        out = self.model(x)\n",
    "        return out"
   ]
  },
  {
   "cell_type": "code",
   "execution_count": null,
   "metadata": {},
   "outputs": [],
   "source": [
    "class Enconder(nn.Module):\n",
    "    def __init__(self, img_size=(512, 768)):\n",
    "        super().__init__()\n",
    "\n",
    "        self.pooling = nn.MaxPool2d(kernel_size=2)\n",
    "        self.upsample = nn.Upsample(scale_factor=2)\n",
    "\n",
    "        self.conv1_1 = CNNencoder_gn(3, 16)\n",
    "        self.conv1_2 = CNNencoder_gn(16, 16)\n",
    "        self.conv2_1 = CNNencoder_gn(16, 32)\n",
    "        self.conv2_2 = CNNencoder_gn(32, 32)\n",
    "        self.conv3_1 = CNNencoder_gn(32, 64)\n",
    "        self.conv3_2 = CNNencoder_gn(64, 64)\n",
    "        self.conv4_1 = CNNencoder_gn(64, 128)\n",
    "        self.conv4_2 = CNNencoder_gn(128, 128)\n",
    "        self.conv5_1 = CNNencoder_gn(128, 256)\n",
    "        self.conv5_2 = CNNencoder_gn(256, 256)\n",
    "\n",
    "    def forward(self, x):\n",
    "        # (B, in_channel, 512, 768)\n",
    "        c1 = self.conv1_1(x)\n",
    "        c1 = self.conv1_2(c1)\n",
    "        # (B, 16, 512, 768)\n",
    "        p1 = self.pooling(c1)\n",
    "        # (B, 16, 256, 384)\n",
    "        c2 = self.conv2_1(p1)\n",
    "        c2 = self.conv2_2(c2)\n",
    "        # (B, 16, 256, 384)\n",
    "        p2 = self.pooling(c2)\n",
    "        # (B, 32, 128, 192)\n",
    "        c3 = self.conv3_1(p2)\n",
    "        c3 = self.conv3_2(c3)\n",
    "        # (B, 32, 128, 192)\n",
    "        p3 = self.pooling(c3)\n",
    "        # (B, 64, 64, 96)\n",
    "        c4 = self.conv4_1(p3)\n",
    "        c4 = self.conv4_2(c4)\n",
    "        # (B, 128, 64, 96)\n",
    "        p4 = self.pooling(c4)\n",
    "        # (B, 128, 32, 48)\n",
    "        c5 = self.conv5_1(p4)\n",
    "        c5 = self.conv5_2(c5)\n",
    "        # (B, 256, 32, 48)"
   ]
  },
  {
   "cell_type": "code",
   "execution_count": null,
   "metadata": {},
   "outputs": [],
   "source": []
  },
  {
   "cell_type": "code",
   "execution_count": 7,
   "metadata": {},
   "outputs": [],
   "source": []
  },
  {
   "cell_type": "code",
   "execution_count": 8,
   "metadata": {},
   "outputs": [],
   "source": []
  },
  {
   "cell_type": "code",
   "execution_count": 9,
   "metadata": {},
   "outputs": [],
   "source": []
  },
  {
   "cell_type": "code",
   "execution_count": 10,
   "metadata": {},
   "outputs": [],
   "source": []
  },
  {
   "cell_type": "code",
   "execution_count": null,
   "metadata": {},
   "outputs": [],
   "source": []
  },
  {
   "cell_type": "code",
   "execution_count": 12,
   "metadata": {},
   "outputs": [],
   "source": [
    "# aa = next(iter(dataloader))\n",
    "# tensor2image = transforms.ToPILImage()\n",
    "# bb = tensor2image(aa[0][0])\n",
    "# bb"
   ]
  }
 ],
 "metadata": {
  "kernelspec": {
   "display_name": "Python 3.9.12 ('gcn')",
   "language": "python",
   "name": "python3"
  },
  "language_info": {
   "codemirror_mode": {
    "name": "ipython",
    "version": 3
   },
   "file_extension": ".py",
   "mimetype": "text/x-python",
   "name": "python",
   "nbconvert_exporter": "python",
   "pygments_lexer": "ipython3",
   "version": "3.9.12"
  },
  "orig_nbformat": 4,
  "vscode": {
   "interpreter": {
    "hash": "9c8146f26135f1c926afd56a5c89149aa7350eae42937c6df54039f048d566a7"
   }
  }
 },
 "nbformat": 4,
 "nbformat_minor": 2
}
